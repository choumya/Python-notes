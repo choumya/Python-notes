{
 "cells": [
  {
   "cell_type": "code",
   "execution_count": 1,
   "id": "4780be37",
   "metadata": {},
   "outputs": [
    {
     "name": "stdout",
     "output_type": "stream",
     "text": [
      "9\n"
     ]
    }
   ],
   "source": [
    "###functions\n",
    "def test(a,b):\n",
    "    print(a+b)\n",
    "test(5,4)"
   ]
  },
  {
   "cell_type": "code",
   "execution_count": 2,
   "id": "c3dcdb74",
   "metadata": {},
   "outputs": [
    {
     "name": "stdout",
     "output_type": "stream",
     "text": [
      "8\n"
     ]
    }
   ],
   "source": [
    "test(6,2)"
   ]
  },
  {
   "cell_type": "code",
   "execution_count": 7,
   "id": "57a0d2d1",
   "metadata": {},
   "outputs": [
    {
     "name": "stdout",
     "output_type": "stream",
     "text": [
      "inside\n"
     ]
    }
   ],
   "source": [
    "def test(a,b):\n",
    "    print(\"inside\")#only prints before return\n",
    "    return(a+b)\n",
    "    print(\"outside\")\n",
    "c=test(5,4)"
   ]
  },
  {
   "cell_type": "code",
   "execution_count": 4,
   "id": "c1dbfa1c",
   "metadata": {},
   "outputs": [
    {
     "name": "stdout",
     "output_type": "stream",
     "text": [
      "9\n"
     ]
    }
   ],
   "source": [
    "print(c)"
   ]
  },
  {
   "cell_type": "code",
   "execution_count": 5,
   "id": "79604ea2",
   "metadata": {},
   "outputs": [
    {
     "name": "stdout",
     "output_type": "stream",
     "text": [
      "a is 1\n",
      "b is 2\n",
      "c is 3\n"
     ]
    }
   ],
   "source": [
    "##positional argument\n",
    "def test(a,b,c):\n",
    "    print(\"a is\", a)\n",
    "    print(\"b is\", b)\n",
    "    print(\"c is\", c)\n",
    "test(1,2,3)"
   ]
  },
  {
   "cell_type": "code",
   "execution_count": 6,
   "id": "5d1f4932",
   "metadata": {},
   "outputs": [
    {
     "name": "stdout",
     "output_type": "stream",
     "text": [
      "a is 1\n",
      "b is 4\n",
      "c is 2\n"
     ]
    }
   ],
   "source": [
    "##keyword argument\n",
    "test(b=4,c=2,a=1)"
   ]
  },
  {
   "cell_type": "code",
   "execution_count": 8,
   "id": "32e3220b",
   "metadata": {},
   "outputs": [],
   "source": [
    "def name(fname,mname,lname):\n",
    "    print(fname)\n",
    "    print(mname)\n",
    "    print(lname)\n"
   ]
  },
  {
   "cell_type": "code",
   "execution_count": 9,
   "id": "a28a2203",
   "metadata": {},
   "outputs": [
    {
     "name": "stdout",
     "output_type": "stream",
     "text": [
      "sachin\n",
      "tendulkar\n",
      "ms\n"
     ]
    }
   ],
   "source": [
    "name(\"sachin\",\"tendulkar\",\"ms\")"
   ]
  },
  {
   "cell_type": "code",
   "execution_count": 12,
   "id": "1963e67a",
   "metadata": {},
   "outputs": [],
   "source": [
    "def name(fname=None,mname=None,lname=None):\n",
    "    print(fname)\n",
    "    print(mname)\n",
    "    print(lname)\n"
   ]
  },
  {
   "cell_type": "code",
   "execution_count": 13,
   "id": "e16557aa",
   "metadata": {},
   "outputs": [
    {
     "name": "stdout",
     "output_type": "stream",
     "text": [
      "salman\n",
      "None\n",
      "None\n"
     ]
    }
   ],
   "source": [
    "name(\"salman\")"
   ]
  },
  {
   "cell_type": "code",
   "execution_count": 24,
   "id": "fc2edfa2",
   "metadata": {},
   "outputs": [
    {
     "name": "stdout",
     "output_type": "stream",
     "text": [
      "salman\n",
      "None\n",
      "fariz\n"
     ]
    }
   ],
   "source": [
    "name(fname=\"salman\", mname= None, lname=\"fariz\")"
   ]
  },
  {
   "cell_type": "code",
   "execution_count": 25,
   "id": "0b7e6d76",
   "metadata": {},
   "outputs": [
    {
     "ename": "SyntaxError",
     "evalue": "positional argument follows keyword argument (2263363865.py, line 1)",
     "output_type": "error",
     "traceback": [
      "\u001b[1;36m  Cell \u001b[1;32mIn[25], line 1\u001b[1;36m\u001b[0m\n\u001b[1;33m    name(fname=\"salman\", mname=\"none\", \"fariz\")#always positional first and keyword 2nd\u001b[0m\n\u001b[1;37m                                              ^\u001b[0m\n\u001b[1;31mSyntaxError\u001b[0m\u001b[1;31m:\u001b[0m positional argument follows keyword argument\n"
     ]
    }
   ],
   "source": [
    "name(fname=\"salman\", mname=\"none\", \"fariz\")#always positional first and keyword 2nd"
   ]
  },
  {
   "cell_type": "code",
   "execution_count": 11,
   "id": "57310975",
   "metadata": {},
   "outputs": [
    {
     "name": "stdout",
     "output_type": "stream",
     "text": [
      "hello\n",
      "hi\n",
      "hello\n"
     ]
    }
   ],
   "source": [
    "a=\"hello\"#global\n",
    "def test():\n",
    "    a=\"hi\"#local\n",
    "    print(a)\n",
    "print(a)\n",
    "test()\n",
    "print(a)\n"
   ]
  },
  {
   "cell_type": "code",
   "execution_count": 28,
   "id": "4cc52f91",
   "metadata": {},
   "outputs": [
    {
     "name": "stdout",
     "output_type": "stream",
     "text": [
      "hello\n",
      "hi\n",
      "hi\n"
     ]
    }
   ],
   "source": [
    "a=\"hello\"#global\n",
    "def test():\n",
    "    global a #converting local variable to global\n",
    "    a=\"hi\"\n",
    "    print(a)\n",
    "print(a)\n",
    "test()\n",
    "print(a)"
   ]
  },
  {
   "cell_type": "code",
   "execution_count": 29,
   "id": "d1c86008",
   "metadata": {},
   "outputs": [
    {
     "name": "stdout",
     "output_type": "stream",
     "text": [
      "1 2 3\n"
     ]
    }
   ],
   "source": [
    "def test(a,b,c):\n",
    "    print(a,b,c)\n",
    "test(1,2,3)\n"
   ]
  },
  {
   "cell_type": "code",
   "execution_count": 30,
   "id": "b88e091d",
   "metadata": {},
   "outputs": [
    {
     "name": "stdout",
     "output_type": "stream",
     "text": [
      "(3, 3, 4, 5, 6, 7, 8)\n"
     ]
    }
   ],
   "source": [
    "def test(*args):\n",
    "    print(args)\n",
    "test(3,3,4,5,6,7,8) ###give the result in tuple"
   ]
  },
  {
   "cell_type": "code",
   "execution_count": 32,
   "id": "04404196",
   "metadata": {},
   "outputs": [
    {
     "name": "stdout",
     "output_type": "stream",
     "text": [
      "{'a': 3, 'b': 3, 'c': 4, 'd': 5, 'f': 6, 'g': 7, 'h': 8}\n"
     ]
    }
   ],
   "source": [
    "def test(**kwargs):\n",
    "    print(kwargs)\n",
    "test(a=3,b=3,c=4,d=5,f=6,g=7,h=8)##returns in dictionary"
   ]
  },
  {
   "cell_type": "code",
   "execution_count": 33,
   "id": "18557159",
   "metadata": {},
   "outputs": [],
   "source": [
    "##inline function\n",
    "a= lambda a,b: a+b"
   ]
  },
  {
   "cell_type": "code",
   "execution_count": 35,
   "id": "61a0bae5",
   "metadata": {},
   "outputs": [
    {
     "data": {
      "text/plain": [
       "9"
      ]
     },
     "execution_count": 35,
     "metadata": {},
     "output_type": "execute_result"
    }
   ],
   "source": [
    "a(5,4)"
   ]
  },
  {
   "cell_type": "code",
   "execution_count": 38,
   "id": "bc936aed",
   "metadata": {},
   "outputs": [],
   "source": [
    "#hands on\n",
    "###WRITE A FN TO GENERATE EVEN AND ODD\n",
    "## USING ARGS PASS FRUIT LIST,NODE\n",
    "#NODE-COUNT={\"apple\":2,\"orange\":1}\n",
    "#duplicate-apple\n",
    "#unique-orange"
   ]
  },
  {
   "cell_type": "code",
   "execution_count": 2,
   "id": "39fa73bb",
   "metadata": {},
   "outputs": [
    {
     "name": "stdout",
     "output_type": "stream",
     "text": [
      "[0, 2, 4, 6, 8, 10, 12, 14, 16, 18]\n",
      "[1, 3, 5, 7, 9, 11, 13, 15, 17, 19]\n"
     ]
    }
   ],
   "source": [
    "###WRITE A FN TO GENERATE EVEN OR ODD\n",
    "e=[]\n",
    "o=[]\n",
    "def evenorodd():\n",
    "    \n",
    "    for i in range(0,20):\n",
    "        if i%2==0:\n",
    "            e.append(i)\n",
    "        else:\n",
    "            o.append(i)\n",
    "    print(e)\n",
    "    print(o)\n",
    "evenorodd()"
   ]
  },
  {
   "cell_type": "code",
   "execution_count": 1,
   "id": "94392c13",
   "metadata": {},
   "outputs": [
    {
     "name": "stdout",
     "output_type": "stream",
     "text": [
      "invalid mode\n"
     ]
    }
   ],
   "source": [
    "e=[]\n",
    "def number(a,b,d):\n",
    "    for i in range(a,b):\n",
    "        if d==0:\n",
    "             if i%2==0:\n",
    "                e.append(i)\n",
    "              \n",
    "        elif d==1:\n",
    "            if i%2!=0:\n",
    "                e.append(i)\n",
    "        elif d>=1:\n",
    "            e=\"invalid mode\"\n",
    "        \n",
    "    print(e)\n",
    "    \n",
    "            \n",
    "number(10,21,2)"
   ]
  },
  {
   "cell_type": "code",
   "execution_count": null,
   "id": "06c9f0aa",
   "metadata": {},
   "outputs": [],
   "source": []
  },
  {
   "cell_type": "markdown",
   "id": "1567c032",
   "metadata": {},
   "source": []
  },
  {
   "cell_type": "code",
   "execution_count": 8,
   "id": "65ee7a4c",
   "metadata": {},
   "outputs": [
    {
     "name": "stdout",
     "output_type": "stream",
     "text": [
      "['apple', 'apple', 'orange', 'mango']\n"
     ]
    }
   ],
   "source": [
    "def fruits(*args):\n",
    "    e=[]\n",
    "    for i in args:\n",
    "        e.append(i)\n",
    "    print(e)\n",
    "fruits(\"apple\",\"apple\",\"orange\",\"mango\")\n",
    "\n",
    "\n",
    " "
   ]
  },
  {
   "cell_type": "code",
   "execution_count": null,
   "id": "74bad76d",
   "metadata": {},
   "outputs": [],
   "source": [
    "def counting(**kwargs):\n",
    " "
   ]
  },
  {
   "cell_type": "code",
   "execution_count": null,
   "id": "758b50db",
   "metadata": {},
   "outputs": [],
   "source": []
  }
 ],
 "metadata": {
  "kernelspec": {
   "display_name": "Python 3 (ipykernel)",
   "language": "python",
   "name": "python3"
  },
  "language_info": {
   "codemirror_mode": {
    "name": "ipython",
    "version": 3
   },
   "file_extension": ".py",
   "mimetype": "text/x-python",
   "name": "python",
   "nbconvert_exporter": "python",
   "pygments_lexer": "ipython3",
   "version": "3.10.9"
  }
 },
 "nbformat": 4,
 "nbformat_minor": 5
}
