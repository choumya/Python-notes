{
 "cells": [
  {
   "cell_type": "code",
   "execution_count": 1,
   "id": "c2223b3e",
   "metadata": {},
   "outputs": [],
   "source": [
    "##classes and objects"
   ]
  },
  {
   "cell_type": "code",
   "execution_count": 4,
   "id": "18ad6d1a",
   "metadata": {},
   "outputs": [],
   "source": [
    "class car():\n",
    "    def speed(self):\n",
    "        print(\"speed\")\n",
    "    def acc(self):\n",
    "        print(\"acc\")\n",
    "a=car()#object\n",
    "        "
   ]
  },
  {
   "cell_type": "code",
   "execution_count": 7,
   "id": "b073524c",
   "metadata": {
    "scrolled": true
   },
   "outputs": [
    {
     "name": "stdout",
     "output_type": "stream",
     "text": [
      "<class '__main__.car'>\n",
      "<__main__.car object at 0x0000022CB63B8250>\n",
      "acc\n",
      "speed\n"
     ]
    }
   ],
   "source": [
    "print(car)\n",
    "print(a)\n",
    "a.acc()\n",
    "a.speed()"
   ]
  },
  {
   "cell_type": "raw",
   "id": "6964d52a",
   "metadata": {},
   "source": []
  },
  {
   "cell_type": "code",
   "execution_count": 8,
   "id": "ab709a69",
   "metadata": {},
   "outputs": [],
   "source": [
    "class hotel():\n",
    "    def floor(self,a):\n",
    "        if a==1:\n",
    "            print(\"veg floor\")\n",
    "        elif a==2:\n",
    "            print(\"non veg floor\")\n",
    "            \n",
    "    def dish(self,a):\n",
    "        if a==1:\n",
    "            print(\"veg dish\")\n",
    "        elif a==2:\n",
    "            print(\"non veg dish\")\n",
    "            "
   ]
  },
  {
   "cell_type": "code",
   "execution_count": 10,
   "id": "3deed854",
   "metadata": {},
   "outputs": [
    {
     "name": "stdout",
     "output_type": "stream",
     "text": [
      "veg floor\n",
      "veg dish\n"
     ]
    }
   ],
   "source": [
    "a=hotel()\n",
    "a.floor(1)\n",
    "a.dish(1)"
   ]
  },
  {
   "cell_type": "code",
   "execution_count": 11,
   "id": "29c3791e",
   "metadata": {},
   "outputs": [
    {
     "name": "stdout",
     "output_type": "stream",
     "text": [
      "veg floor\n",
      "non veg dish\n"
     ]
    }
   ],
   "source": [
    "a.floor(1)\n",
    "a.dish(2)"
   ]
  },
  {
   "cell_type": "code",
   "execution_count": 13,
   "id": "8f5759ab",
   "metadata": {},
   "outputs": [],
   "source": [
    "class hotel():\n",
    "    def __init__(self,a):\n",
    "        self.a=a\n",
    "    def floor(self):\n",
    "        if self.a==1:\n",
    "            print(\"veg floor\")\n",
    "        elif self.a==2:\n",
    "            print(\"non veg floor\")\n",
    "            \n",
    "    def dish(self):\n",
    "        if self.a==1:\n",
    "            print(\"veg dish\")\n",
    "        elif self.a==2:\n",
    "            print(\"non veg dish\")\n"
   ]
  },
  {
   "cell_type": "code",
   "execution_count": 12,
   "id": "2f82ee40",
   "metadata": {},
   "outputs": [
    {
     "name": "stdout",
     "output_type": "stream",
     "text": [
      "veg floor\n",
      "veg dish\n"
     ]
    }
   ],
   "source": [
    "a=hotel(1)\n",
    "a.floor()\n",
    "a.dish()"
   ]
  },
  {
   "cell_type": "code",
   "execution_count": 28,
   "id": "f7d90cb4",
   "metadata": {},
   "outputs": [
    {
     "name": "stdout",
     "output_type": "stream",
     "text": [
      "non veg floor\n",
      "non veg dish\n"
     ]
    }
   ],
   "source": [
    "b=hotel(2)\n",
    "b.floor()\n",
    "b.dish()"
   ]
  },
  {
   "cell_type": "code",
   "execution_count": 32,
   "id": "a852f7dd",
   "metadata": {},
   "outputs": [
    {
     "name": "stdout",
     "output_type": "stream",
     "text": [
      "9\n",
      "1\n",
      "20\n",
      "1.25\n"
     ]
    }
   ],
   "source": [
    "##calculator class-add,sub,multi,div using constructor\n",
    "class calcii():\n",
    "    def __init__(self,a,b):\n",
    "        self.a=a\n",
    "        self.b=b\n",
    "       \n",
    "    def add(self):\n",
    "        print(self.a+self.b)\n",
    "    def sub(self):\n",
    "        print(self.a-self.b)\n",
    "    def mul(self):\n",
    "        print(self.a*self.b)\n",
    "    def div(self):\n",
    "        print(self.a/self.b)\n",
    "a= calcii(5,4)\n",
    "a.add()\n",
    "a.sub()\n",
    "a.mul()\n",
    "a.div()\n",
    "\n",
    "\n"
   ]
  },
  {
   "cell_type": "code",
   "execution_count": 30,
   "id": "b75d24bf",
   "metadata": {},
   "outputs": [],
   "source": [
    "#single inheritance\n",
    "class calc():\n",
    "    def add(self,a,b):\n",
    "        print(a+b)\n"
   ]
  },
  {
   "cell_type": "code",
   "execution_count": 33,
   "id": "575d941f",
   "metadata": {},
   "outputs": [],
   "source": [
    "class calc1(calc):##calc is ineherited\n",
    "    def sub(self,a,b):\n",
    "        print(a-b)"
   ]
  },
  {
   "cell_type": "code",
   "execution_count": 4,
   "id": "0eee95b8",
   "metadata": {},
   "outputs": [
    {
     "name": "stdout",
     "output_type": "stream",
     "text": [
      "9\n",
      "9\n"
     ]
    }
   ],
   "source": [
    "a=calc1() #can do both fn as it is inherited\n",
    "a.add(5,4)\n",
    "a.sub(5,4)\n"
   ]
  },
  {
   "cell_type": "code",
   "execution_count": 3,
   "id": "55252bab",
   "metadata": {},
   "outputs": [
    {
     "name": "stdout",
     "output_type": "stream",
     "text": [
      "9\n"
     ]
    }
   ],
   "source": [
    "b=calc()#can only do fn in calc\n",
    "b.add(5,4)"
   ]
  },
  {
   "cell_type": "code",
   "execution_count": 36,
   "id": "7da0dd5e",
   "metadata": {},
   "outputs": [],
   "source": [
    "#multilevel inheritence\n",
    "class calc():\n",
    "    def add(self,a,b):\n",
    "        print(a+b)\n",
    "class calc1(calc):\n",
    "    def sub(self,a,b):\n",
    "        print(a+b)\n",
    "class calc2(calc1):\n",
    "    def mul(self,a,b):\n",
    "        print(a*b)"
   ]
  },
  {
   "cell_type": "code",
   "execution_count": 37,
   "id": "b905dfd3",
   "metadata": {},
   "outputs": [],
   "source": [
    "#multiple inheritence\n",
    "class calc():\n",
    "    def add(self,a,b):\n",
    "        print(a+b)\n",
    "class calc1():\n",
    "    def sub(self,a,b):\n",
    "        print(a+b)\n",
    "class calc2(calc,calc1):\n",
    "    def mul(self,a,b):\n",
    "        print(a*b)"
   ]
  },
  {
   "cell_type": "code",
   "execution_count": 1,
   "id": "663b784a",
   "metadata": {},
   "outputs": [],
   "source": [
    "#hierarchical inheritance\n",
    "class calc():\n",
    "    def add(self,a,b):\n",
    "        print(a+b)\n",
    "class calc1(calc):\n",
    "    def sub(self,a,b):\n",
    "        print(a+b)\n",
    "class calc2(calc):\n",
    "    def mul(self,a,b):\n",
    "        print(a*b)"
   ]
  },
  {
   "cell_type": "code",
   "execution_count": null,
   "id": "c369e548",
   "metadata": {},
   "outputs": [],
   "source": []
  },
  {
   "cell_type": "code",
   "execution_count": null,
   "id": "fd1a2079",
   "metadata": {},
   "outputs": [],
   "source": []
  }
 ],
 "metadata": {
  "kernelspec": {
   "display_name": "Python 3 (ipykernel)",
   "language": "python",
   "name": "python3"
  },
  "language_info": {
   "codemirror_mode": {
    "name": "ipython",
    "version": 3
   },
   "file_extension": ".py",
   "mimetype": "text/x-python",
   "name": "python",
   "nbconvert_exporter": "python",
   "pygments_lexer": "ipython3",
   "version": "3.10.9"
  }
 },
 "nbformat": 4,
 "nbformat_minor": 5
}
