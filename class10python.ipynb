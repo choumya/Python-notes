{
 "cells": [
  {
   "cell_type": "code",
   "execution_count": 10,
   "id": "bb7091cf",
   "metadata": {},
   "outputs": [],
   "source": [
    "#classes and objects\n",
    "class calci():\n",
    "    def add(self,a,b):\n",
    "        print(a+b)\n",
    "    def sub(self,a,b):\n",
    "        print(a-b)\n",
    "        \n",
    "    "
   ]
  },
  {
   "cell_type": "code",
   "execution_count": 6,
   "id": "50850e9d",
   "metadata": {},
   "outputs": [],
   "source": [
    "a=calci()"
   ]
  },
  {
   "cell_type": "code",
   "execution_count": 7,
   "id": "cd3242ee",
   "metadata": {},
   "outputs": [
    {
     "name": "stdout",
     "output_type": "stream",
     "text": [
      "<class '__main__.calci'>\n"
     ]
    }
   ],
   "source": [
    "print(calci)"
   ]
  },
  {
   "cell_type": "code",
   "execution_count": 8,
   "id": "893fc134",
   "metadata": {},
   "outputs": [
    {
     "name": "stdout",
     "output_type": "stream",
     "text": [
      "<__main__.calci object at 0x000001FE6A88BDF0>\n"
     ]
    }
   ],
   "source": [
    "print(a)"
   ]
  },
  {
   "cell_type": "code",
   "execution_count": 9,
   "id": "40efb899",
   "metadata": {},
   "outputs": [
    {
     "name": "stdout",
     "output_type": "stream",
     "text": [
      "9\n",
      "1\n"
     ]
    }
   ],
   "source": [
    "a.add(5,4)\n",
    "a.sub(5,4)"
   ]
  },
  {
   "cell_type": "code",
   "execution_count": 11,
   "id": "15f06d73",
   "metadata": {},
   "outputs": [],
   "source": [
    "#constructor\n",
    "class hotel():\n",
    "    def __init__(self,a):\n",
    "        self.a=a\n",
    "    def floor(self):\n",
    "        if self.a==1:\n",
    "            print(\"veg floor\")\n",
    "        elif self.a==2:\n",
    "            print(\"non veg floor\")\n",
    "        \n",
    "    def dish(self):\n",
    "        if self.a==1:\n",
    "            print(\"veg dish\")\n",
    "        elif self.a==2:\n",
    "            print(\"non veg dish\")\n",
    "            "
   ]
  },
  {
   "cell_type": "code",
   "execution_count": 12,
   "id": "aee74220",
   "metadata": {},
   "outputs": [
    {
     "name": "stdout",
     "output_type": "stream",
     "text": [
      "veg floor\n",
      "veg dish\n"
     ]
    }
   ],
   "source": [
    "c=hotel(1)\n",
    "c.floor()\n",
    "c.dish()"
   ]
  },
  {
   "cell_type": "code",
   "execution_count": 13,
   "id": "c7a96b39",
   "metadata": {},
   "outputs": [
    {
     "name": "stdout",
     "output_type": "stream",
     "text": [
      "9\n",
      "1\n",
      "20\n",
      "1.25\n"
     ]
    }
   ],
   "source": [
    "##calculator class-add,sub,multi,div using constructor\n",
    "class calcii():\n",
    "    def __init__(self,a,b):\n",
    "        self.a=a\n",
    "        self.b=b\n",
    "       \n",
    "    def add(self):\n",
    "        print(self.a+self.b)\n",
    "    def sub(self):\n",
    "        print(self.a-self.b)\n",
    "    def mul(self):\n",
    "        print(self.a*self.b)\n",
    "    def div(self):\n",
    "        print(self.a/self.b)\n",
    "a= calcii(5,4)\n",
    "a.add()\n",
    "a.sub()\n",
    "a.mul()\n",
    "a.div() "
   ]
  },
  {
   "cell_type": "code",
   "execution_count": 14,
   "id": "eb97a886",
   "metadata": {},
   "outputs": [],
   "source": [
    "#single inheritance\n",
    "class calc():\n",
    "    def add(self,a,b):\n",
    "        print(a+b)"
   ]
  },
  {
   "cell_type": "code",
   "execution_count": 18,
   "id": "06bf56ed",
   "metadata": {},
   "outputs": [],
   "source": [
    "class calc1(calc):\n",
    "    def sub(self,a,b):\n",
    "        print(a-b)"
   ]
  },
  {
   "cell_type": "code",
   "execution_count": 19,
   "id": "bd5a48ec",
   "metadata": {},
   "outputs": [
    {
     "name": "stdout",
     "output_type": "stream",
     "text": [
      "9\n",
      "1\n"
     ]
    }
   ],
   "source": [
    "a=calc1()\n",
    "a.add(5,4)\n",
    "a.sub(5,4)"
   ]
  },
  {
   "cell_type": "code",
   "execution_count": 20,
   "id": "894da2a3",
   "metadata": {},
   "outputs": [],
   "source": [
    "#multilevel inheritance\n",
    "class calc():\n",
    "    def add(self,a,b):\n",
    "        print(a+b)\n",
    "class calc1(calc):\n",
    "    def sub(self,a,b):\n",
    "        print(a-b)\n",
    "class calc2(calc1):\n",
    "    def mul(self,a,b):\n",
    "        print(a*b)"
   ]
  },
  {
   "cell_type": "code",
   "execution_count": 21,
   "id": "2050319e",
   "metadata": {},
   "outputs": [
    {
     "name": "stdout",
     "output_type": "stream",
     "text": [
      "9\n",
      "1\n",
      "20\n"
     ]
    }
   ],
   "source": [
    "a=calc2()\n",
    "a.add(5,4)\n",
    "a.sub(5,4)\n",
    "a.mul(5,4)"
   ]
  },
  {
   "cell_type": "code",
   "execution_count": 22,
   "id": "d4d06cdc",
   "metadata": {},
   "outputs": [],
   "source": [
    "#multiple inheritence\n",
    "class calc():\n",
    "    def add(self,a,b):\n",
    "        print(a+b)\n",
    "class calc1():\n",
    "    def sub(self,a,b):\n",
    "        print(a+b)\n",
    "class calc2(calc,calc1):\n",
    "    def mul(self,a,b):\n",
    "        print(a*b)"
   ]
  },
  {
   "cell_type": "code",
   "execution_count": 23,
   "id": "e97f5ce6",
   "metadata": {},
   "outputs": [],
   "source": [
    "#hierarchical inheritance\n",
    "class calc():\n",
    "    def add(self,a,b):\n",
    "        print(a+b)\n",
    "class calc1(calc):\n",
    "    def sub(self,a,b):\n",
    "        print(a+b)\n",
    "class calc2(calc):\n",
    "    def mul(self,a,b):\n",
    "        print(a*b)"
   ]
  },
  {
   "cell_type": "code",
   "execution_count": 24,
   "id": "de0ea226",
   "metadata": {},
   "outputs": [],
   "source": [
    "class grandparent():\n",
    "    def __init__(self):\n",
    "        self.name=\"grandparent\"\n",
    "        \n",
    "        \n",
    "    "
   ]
  },
  {
   "cell_type": "code",
   "execution_count": 25,
   "id": "cd50c580",
   "metadata": {},
   "outputs": [],
   "source": [
    "class parent(grandparent):\n",
    "    def __init__(self):\n",
    "        self.parent=\"parent\"\n",
    "    def test(self):\n",
    "        print(\"test\")\n",
    "#two constructor cannot  be used in inheritance.It forgets the past read values and only has the latest value in its mind"
   ]
  },
  {
   "cell_type": "code",
   "execution_count": 4,
   "id": "60a811e6",
   "metadata": {},
   "outputs": [
    {
     "ename": "NameError",
     "evalue": "name 'parent' is not defined",
     "output_type": "error",
     "traceback": [
      "\u001b[1;31m---------------------------------------------------------------------------\u001b[0m",
      "\u001b[1;31mNameError\u001b[0m                                 Traceback (most recent call last)",
      "Cell \u001b[1;32mIn[4], line 1\u001b[0m\n\u001b[1;32m----> 1\u001b[0m a\u001b[38;5;241m=\u001b[39m\u001b[43mparent\u001b[49m()\n",
      "\u001b[1;31mNameError\u001b[0m: name 'parent' is not defined"
     ]
    }
   ],
   "source": [
    "a=parent()"
   ]
  },
  {
   "cell_type": "code",
   "execution_count": 5,
   "id": "c5c6dd49",
   "metadata": {},
   "outputs": [
    {
     "ename": "NameError",
     "evalue": "name 'a' is not defined",
     "output_type": "error",
     "traceback": [
      "\u001b[1;31m---------------------------------------------------------------------------\u001b[0m",
      "\u001b[1;31mNameError\u001b[0m                                 Traceback (most recent call last)",
      "Cell \u001b[1;32mIn[5], line 1\u001b[0m\n\u001b[1;32m----> 1\u001b[0m \u001b[43ma\u001b[49m\u001b[38;5;241m.\u001b[39mname\n",
      "\u001b[1;31mNameError\u001b[0m: name 'a' is not defined"
     ]
    }
   ],
   "source": [
    "a.name"
   ]
  },
  {
   "cell_type": "code",
   "execution_count": 6,
   "id": "da57caa4",
   "metadata": {},
   "outputs": [
    {
     "ename": "NameError",
     "evalue": "name 'a' is not defined",
     "output_type": "error",
     "traceback": [
      "\u001b[1;31m---------------------------------------------------------------------------\u001b[0m",
      "\u001b[1;31mNameError\u001b[0m                                 Traceback (most recent call last)",
      "Cell \u001b[1;32mIn[6], line 1\u001b[0m\n\u001b[1;32m----> 1\u001b[0m \u001b[43ma\u001b[49m\u001b[38;5;241m.\u001b[39mparent\n",
      "\u001b[1;31mNameError\u001b[0m: name 'a' is not defined"
     ]
    }
   ],
   "source": [
    "a.parent\n"
   ]
  },
  {
   "cell_type": "code",
   "execution_count": 37,
   "id": "d07a92fc",
   "metadata": {},
   "outputs": [],
   "source": [
    "#to overcme this super() is used\n",
    "#single\n",
    "class grandparent():\n",
    "    def __init__(self):\n",
    "        self.name=\"grandparent\"\n",
    "class parent(grandparent):\n",
    "    def __init__(self):\n",
    "        super().__init__()\n",
    "        self.parent=\"parent\"\n",
    "    def test(self):\n",
    "        print(\"test\")"
   ]
  },
  {
   "cell_type": "code",
   "execution_count": 46,
   "id": "d0780216",
   "metadata": {},
   "outputs": [
    {
     "data": {
      "text/plain": [
       "'grandparent'"
      ]
     },
     "execution_count": 46,
     "metadata": {},
     "output_type": "execute_result"
    }
   ],
   "source": [
    "b=parent()\n",
    "b.name\n",
    "\n"
   ]
  },
  {
   "cell_type": "code",
   "execution_count": 48,
   "id": "5e1e090c",
   "metadata": {},
   "outputs": [
    {
     "data": {
      "text/plain": [
       "'parent'"
      ]
     },
     "execution_count": 48,
     "metadata": {},
     "output_type": "execute_result"
    }
   ],
   "source": [
    "b.parent"
   ]
  },
  {
   "cell_type": "code",
   "execution_count": 49,
   "id": "8977ccd9",
   "metadata": {},
   "outputs": [],
   "source": [
    "#multilevel\n",
    "class grandparent():\n",
    "    def __init__(self):\n",
    "        self.name=\"grandparent\"\n",
    "class parent(grandparent):\n",
    "    def __init__(self):\n",
    "        super().__init__()\n",
    "        self.parent=\"parent\"\n",
    "    def test(self):\n",
    "        print(\"test\")\n",
    "class child(parent):\n",
    "    def __init__(self):\n",
    "        super().__init__()\n",
    "        self.child=\"child\"\n",
    "    def test(self):\n",
    "        print(\"test\")"
   ]
  },
  {
   "cell_type": "code",
   "execution_count": 50,
   "id": "66582c5e",
   "metadata": {},
   "outputs": [
    {
     "data": {
      "text/plain": [
       "'parent'"
      ]
     },
     "execution_count": 50,
     "metadata": {},
     "output_type": "execute_result"
    }
   ],
   "source": [
    "a=child()\n",
    "a.parent\n"
   ]
  },
  {
   "cell_type": "code",
   "execution_count": 51,
   "id": "bcbd9b2c",
   "metadata": {},
   "outputs": [
    {
     "data": {
      "text/plain": [
       "'grandparent'"
      ]
     },
     "execution_count": 51,
     "metadata": {},
     "output_type": "execute_result"
    }
   ],
   "source": [
    "a.name\n"
   ]
  },
  {
   "cell_type": "code",
   "execution_count": 52,
   "id": "15a54a42",
   "metadata": {},
   "outputs": [
    {
     "data": {
      "text/plain": [
       "'child'"
      ]
     },
     "execution_count": 52,
     "metadata": {},
     "output_type": "execute_result"
    }
   ],
   "source": [
    "a.child"
   ]
  },
  {
   "cell_type": "code",
   "execution_count": 61,
   "id": "5672a76d",
   "metadata": {},
   "outputs": [],
   "source": [
    "#super() only remember one value\n",
    "#for multiple we need to remember more than 0ne value so use super differntly\n",
    "#multiple\n",
    "\n",
    "class grandparent():\n",
    "    def __init__(self):\n",
    "        self.name=\"grandparent\"\n",
    "class parent():\n",
    "    def __init__(self):\n",
    "        self.parent=\"parent\"\n",
    "    def test(self):\n",
    "        print(\"test\")\n",
    "class child(grandparent,parent):\n",
    "    def __init__(self):\n",
    "        super().__init__()\n",
    "        super(grandparent,self).__init__()\n",
    "        self.child=\"child\"\n",
    "    def test(self):\n",
    "        print(\"test\")"
   ]
  },
  {
   "cell_type": "code",
   "execution_count": 62,
   "id": "92d738ea",
   "metadata": {},
   "outputs": [],
   "source": [
    "a=child()"
   ]
  },
  {
   "cell_type": "code",
   "execution_count": 63,
   "id": "7c4ee865",
   "metadata": {},
   "outputs": [
    {
     "data": {
      "text/plain": [
       "'grandparent'"
      ]
     },
     "execution_count": 63,
     "metadata": {},
     "output_type": "execute_result"
    }
   ],
   "source": [
    "a.name"
   ]
  },
  {
   "cell_type": "code",
   "execution_count": 64,
   "id": "563a469d",
   "metadata": {},
   "outputs": [
    {
     "data": {
      "text/plain": [
       "'parent'"
      ]
     },
     "execution_count": 64,
     "metadata": {},
     "output_type": "execute_result"
    }
   ],
   "source": [
    "a.parent"
   ]
  },
  {
   "cell_type": "code",
   "execution_count": 65,
   "id": "cff9beb3",
   "metadata": {},
   "outputs": [
    {
     "data": {
      "text/plain": [
       "'child'"
      ]
     },
     "execution_count": 65,
     "metadata": {},
     "output_type": "execute_result"
    }
   ],
   "source": [
    "a.child"
   ]
  },
  {
   "cell_type": "code",
   "execution_count": 66,
   "id": "70813c3f",
   "metadata": {},
   "outputs": [],
   "source": [
    "#abstraction\n"
   ]
  },
  {
   "cell_type": "code",
   "execution_count": 67,
   "id": "db73e342",
   "metadata": {},
   "outputs": [],
   "source": [
    "from abc import ABC , abstractmethod"
   ]
  },
  {
   "cell_type": "code",
   "execution_count": 68,
   "id": "5dfc3990",
   "metadata": {},
   "outputs": [],
   "source": [
    "class cricket(ABC):\n",
    "    \n",
    "    @abstractmethod #everything under this line should be used in inherited class if not error\n",
    "    def bat(self):\n",
    "        pass\n",
    "    \n",
    "    @abstractmethod\n",
    "    def ball(self):\n",
    "        pass\n",
    "    \n",
    "    "
   ]
  },
  {
   "cell_type": "code",
   "execution_count": 69,
   "id": "723ee192",
   "metadata": {},
   "outputs": [],
   "source": [
    "class play(cricket):\n",
    "    \n",
    "    def bat(self):\n",
    "        print(\"bat\")\n",
    "    \n",
    "    def ball(self):\n",
    "        print(\"ball\")\n",
    "        \n",
    "    def stump(self):\n",
    "        print(\"stump\")\n",
    "        "
   ]
  },
  {
   "cell_type": "code",
   "execution_count": 70,
   "id": "afbe02fb",
   "metadata": {},
   "outputs": [],
   "source": [
    "a=play()"
   ]
  },
  {
   "cell_type": "code",
   "execution_count": null,
   "id": "8745a968",
   "metadata": {},
   "outputs": [],
   "source": []
  }
 ],
 "metadata": {
  "kernelspec": {
   "display_name": "Python 3 (ipykernel)",
   "language": "python",
   "name": "python3"
  },
  "language_info": {
   "codemirror_mode": {
    "name": "ipython",
    "version": 3
   },
   "file_extension": ".py",
   "mimetype": "text/x-python",
   "name": "python",
   "nbconvert_exporter": "python",
   "pygments_lexer": "ipython3",
   "version": "3.10.9"
  }
 },
 "nbformat": 4,
 "nbformat_minor": 5
}
