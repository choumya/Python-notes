{
 "cells": [
  {
   "cell_type": "code",
   "execution_count": 1,
   "id": "938744e6",
   "metadata": {},
   "outputs": [],
   "source": [
    "#encapsulation"
   ]
  },
  {
   "cell_type": "code",
   "execution_count": 2,
   "id": "383f60f1",
   "metadata": {},
   "outputs": [],
   "source": [
    "#public:can be modified and usedd inside or outsde the class\n",
    "#protected:can be changed by the parent and its inherited ,starts with _\n",
    "#private:can be changed or used only by the parent class,starts with __\n"
   ]
  },
  {
   "cell_type": "code",
   "execution_count": 3,
   "id": "fc2e974f",
   "metadata": {},
   "outputs": [],
   "source": [
    "#public\n",
    "class test():\n",
    "    def __init__(self):\n",
    "        self.name=\"test\"\n",
    "        "
   ]
  },
  {
   "cell_type": "code",
   "execution_count": 4,
   "id": "26a6e6e3",
   "metadata": {},
   "outputs": [
    {
     "name": "stdout",
     "output_type": "stream",
     "text": [
      "test\n"
     ]
    }
   ],
   "source": [
    "a=test()\n",
    "print(a.name)"
   ]
  },
  {
   "cell_type": "code",
   "execution_count": 5,
   "id": "ed911071",
   "metadata": {},
   "outputs": [
    {
     "name": "stdout",
     "output_type": "stream",
     "text": [
      "try\n"
     ]
    }
   ],
   "source": [
    "a.name=\"try\"\n",
    "print(a.name)"
   ]
  },
  {
   "cell_type": "code",
   "execution_count": 8,
   "id": "7d423b9d",
   "metadata": {},
   "outputs": [
    {
     "ename": "AttributeError",
     "evalue": "'test' object has no attribute '__name'",
     "output_type": "error",
     "traceback": [
      "\u001b[1;31m---------------------------------------------------------------------------\u001b[0m",
      "\u001b[1;31mAttributeError\u001b[0m                            Traceback (most recent call last)",
      "Cell \u001b[1;32mIn[8], line 6\u001b[0m\n\u001b[0;32m      4\u001b[0m         \u001b[38;5;28mself\u001b[39m\u001b[38;5;241m.\u001b[39m__name\u001b[38;5;241m=\u001b[39m\u001b[38;5;124m\"\u001b[39m\u001b[38;5;124mtest\u001b[39m\u001b[38;5;124m\"\u001b[39m\n\u001b[0;32m      5\u001b[0m a\u001b[38;5;241m=\u001b[39mtest()\n\u001b[1;32m----> 6\u001b[0m \u001b[38;5;28mprint\u001b[39m(\u001b[43ma\u001b[49m\u001b[38;5;241;43m.\u001b[39;49m\u001b[43m__name\u001b[49m)\n",
      "\u001b[1;31mAttributeError\u001b[0m: 'test' object has no attribute '__name'"
     ]
    }
   ],
   "source": [
    "#private\n",
    "class test():\n",
    "    def __init__(self):\n",
    "        self.__name=\"test\"\n",
    "a=test()\n",
    "print(a.__name)\n",
    "        "
   ]
  },
  {
   "cell_type": "code",
   "execution_count": 16,
   "id": "07cfa578",
   "metadata": {},
   "outputs": [],
   "source": [
    "##private\n",
    "class test():\n",
    "    def __init__(self):\n",
    "        self.__name=\"test\"\n",
    "    def display(self):\n",
    "        print(self.__name)\n",
    "    def change(self,a):\n",
    "        self.__name= a\n",
    "        \n"
   ]
  },
  {
   "cell_type": "code",
   "execution_count": 17,
   "id": "f62fc8c9",
   "metadata": {},
   "outputs": [
    {
     "name": "stdout",
     "output_type": "stream",
     "text": [
      "test\n"
     ]
    }
   ],
   "source": [
    "a=test()\n",
    "a.display()"
   ]
  },
  {
   "cell_type": "code",
   "execution_count": 18,
   "id": "75d8ca64",
   "metadata": {},
   "outputs": [
    {
     "name": "stdout",
     "output_type": "stream",
     "text": [
      "shdh\n"
     ]
    }
   ],
   "source": [
    "a.change(\"shdh\")\n",
    "a.display()"
   ]
  },
  {
   "cell_type": "code",
   "execution_count": 19,
   "id": "f1c2a398",
   "metadata": {},
   "outputs": [],
   "source": [
    "#polymorphism"
   ]
  },
  {
   "cell_type": "code",
   "execution_count": 20,
   "id": "66f82ff8",
   "metadata": {},
   "outputs": [],
   "source": [
    "class parent():\n",
    "    def test(self):\n",
    "        print(\"parent\")"
   ]
  },
  {
   "cell_type": "code",
   "execution_count": 21,
   "id": "a33d8d29",
   "metadata": {},
   "outputs": [],
   "source": [
    "class child(parent):\n",
    "    def test(self):\n",
    "        print(\"child\")\n",
    "    def demo(self,a):\n",
    "        print(a)"
   ]
  },
  {
   "cell_type": "code",
   "execution_count": 22,
   "id": "158ebdfc",
   "metadata": {},
   "outputs": [],
   "source": [
    "a=child()"
   ]
  },
  {
   "cell_type": "code",
   "execution_count": 23,
   "id": "5cd5c6dc",
   "metadata": {},
   "outputs": [
    {
     "name": "stdout",
     "output_type": "stream",
     "text": [
      "child\n"
     ]
    }
   ],
   "source": [
    "a.test()"
   ]
  },
  {
   "cell_type": "code",
   "execution_count": 24,
   "id": "5b4bae2c",
   "metadata": {},
   "outputs": [
    {
     "name": "stdout",
     "output_type": "stream",
     "text": [
      "welcome\n"
     ]
    }
   ],
   "source": [
    "a.demo(\"welcome\") #method overloading"
   ]
  },
  {
   "cell_type": "code",
   "execution_count": 25,
   "id": "1d3b8756",
   "metadata": {},
   "outputs": [
    {
     "name": "stdout",
     "output_type": "stream",
     "text": [
      "welcome\n"
     ]
    }
   ],
   "source": [
    "a.demo(a=\"welcome\")"
   ]
  },
  {
   "cell_type": "code",
   "execution_count": null,
   "id": "e53f4a5b",
   "metadata": {},
   "outputs": [],
   "source": [
    "\"\"'GIL-global interpretor language: manages memory in python\n",
    "'\"\"\n",
    "\n",
    "\n",
    "+\n",
    "\n",
    "\n",
    "\n",
    "\n",
    "\n",
    "\n",
    "\n",
    "\n",
    "\n",
    "\n",
    "\n",
    "\n",
    "\n",
    "\n",
    "\n",
    "\n",
    "\n",
    "\n",
    "\n",
    "\n",
    "\n",
    "\n",
    "\n",
    "\n",
    "\n",
    "\n",
    "\n",
    "\n",
    "\n",
    "\n",
    "\n",
    "\n",
    "\n",
    "\n",
    "\n",
    "\n",
    "\n",
    "\n",
    "\n",
    "\n",
    "\n",
    "\n",
    "\n",
    "\n",
    "\n",
    "\n",
    "\n",
    "\n",
    "\n",
    "\n",
    "\n",
    "\n",
    "\n",
    "\n",
    "\n",
    "\n",
    "\n",
    "\n",
    "\n",
    "\n",
    "\n",
    "\n",
    "\n",
    "\n",
    "\n",
    "\n",
    "\n",
    "\n",
    "\n",
    "\n",
    "\n",
    "\n",
    "\n",
    "\n"
   ]
  }
 ],
 "metadata": {
  "kernelspec": {
   "display_name": "Python 3 (ipykernel)",
   "language": "python",
   "name": "python3"
  },
  "language_info": {
   "codemirror_mode": {
    "name": "ipython",
    "version": 3
   },
   "file_extension": ".py",
   "mimetype": "text/x-python",
   "name": "python",
   "nbconvert_exporter": "python",
   "pygments_lexer": "ipython3",
   "version": "3.10.9"
  }
 },
 "nbformat": 4,
 "nbformat_minor": 5
}
