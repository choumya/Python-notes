{
 "cells": [
  {
   "cell_type": "code",
   "execution_count": 1,
   "id": "1696057d",
   "metadata": {},
   "outputs": [],
   "source": [
    "\n",
    "#fibonacci series\n",
    "#sort list without any build in fn\n",
    "\n",
    "#palindrome"
   ]
  },
  {
   "cell_type": "code",
   "execution_count": 2,
   "id": "b31303f3",
   "metadata": {},
   "outputs": [],
   "source": [
    "#get user input check palindrome (if loop)\n",
    "#get a number input and check the data type(if loop)"
   ]
  },
  {
   "cell_type": "code",
   "execution_count": 1,
   "id": "2db84eee",
   "metadata": {},
   "outputs": [],
   "source": [
    "#get 3 input(start,end,node)(fns)"
   ]
  },
  {
   "cell_type": "code",
   "execution_count": 1,
   "id": "b9e87ed6",
   "metadata": {
    "scrolled": true
   },
   "outputs": [
    {
     "name": "stdout",
     "output_type": "stream",
     "text": [
      "0\n",
      "1\n",
      "1\n",
      "2\n",
      "3\n",
      "5\n",
      "8\n",
      "13\n",
      "21\n",
      "34\n"
     ]
    }
   ],
   "source": [
    "def fibo(n):\n",
    "    n1 = 0\n",
    "    n2 = 1\n",
    "    for i in range(n):\n",
    "        print(n1)\n",
    "        n3= n1 + n2 \n",
    "        n1 = n2\n",
    "        n2 = n3\n",
    "fibo(10)"
   ]
  },
  {
   "cell_type": "code",
   "execution_count": 14,
   "id": "177e0d16",
   "metadata": {},
   "outputs": [
    {
     "name": "stdout",
     "output_type": "stream",
     "text": [
      "1\n",
      "3\n",
      "5\n",
      "7\n",
      "4\n"
     ]
    }
   ],
   "source": [
    "a= [1,3,5,7,4]\n",
    "for i in a:\n",
    "\n",
    "    if i>b:\n",
    "        temp=i\n",
    "        i=b\n",
    "        b=temp\n",
    "    print(i)\n",
    "        "
   ]
  },
  {
   "cell_type": "code",
   "execution_count": 18,
   "id": "e80103d8",
   "metadata": {},
   "outputs": [
    {
     "name": "stdout",
     "output_type": "stream",
     "text": [
      "[1, 2, 3, 4, 5, 6, 7, 8, 9, 10]\n"
     ]
    }
   ],
   "source": [
    "a= [1,3,5,7,4,2,10,6,9,8]\n",
    "c=[]\n",
    "n = len(a)\n",
    "for i in range(n):\n",
    "    for j in range(n-1):\n",
    "        if a[j]>a[j+1]:\n",
    "            a[j],a[j+1]=a[j+1],a[j]\n",
    "print(a)        \n",
    "        \n",
    "        \n",
    "\n",
    "         \n",
    "    "
   ]
  },
  {
   "cell_type": "code",
   "execution_count": 3,
   "id": "fa076461",
   "metadata": {},
   "outputs": [
    {
     "name": "stdout",
     "output_type": "stream",
     "text": [
      "Enter a stringcatopillar\n",
      "rallipotac\n",
      "Not a palindrome\n"
     ]
    }
   ],
   "source": [
    "stri=str(input(\"Enter a string:\"))\n",
    "print(stri[::-1])\n",
    "if stri==stri[::-1]:\n",
    "    print(\"palindrome\")\n",
    "else:\n",
    "    print(\"Not a palindrome\")"
   ]
  },
  {
   "cell_type": "code",
   "execution_count": 5,
   "id": "a6f198be",
   "metadata": {},
   "outputs": [
    {
     "name": "stdout",
     "output_type": "stream",
     "text": [
      "Enter a number:20\n",
      "<class 'str'>\n"
     ]
    }
   ],
   "source": []
  },
  {
   "cell_type": "code",
   "execution_count": null,
   "id": "f660f2c4",
   "metadata": {},
   "outputs": [],
   "source": []
  }
 ],
 "metadata": {
  "kernelspec": {
   "display_name": "Python 3 (ipykernel)",
   "language": "python",
   "name": "python3"
  },
  "language_info": {
   "codemirror_mode": {
    "name": "ipython",
    "version": 3
   },
   "file_extension": ".py",
   "mimetype": "text/x-python",
   "name": "python",
   "nbconvert_exporter": "python",
   "pygments_lexer": "ipython3",
   "version": "3.10.9"
  }
 },
 "nbformat": 4,
 "nbformat_minor": 5
}
