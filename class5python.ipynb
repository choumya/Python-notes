{
 "cells": [
  {
   "cell_type": "code",
   "execution_count": 5,
   "id": "8b536f5c",
   "metadata": {},
   "outputs": [
    {
     "name": "stdout",
     "output_type": "stream",
     "text": [
      "gmail\n",
      "aruna\n",
      "yahoo\n",
      "sal\n",
      "email\n",
      "chou\n",
      "gmail\n",
      "chou\n",
      "yahoo\n",
      "sal\n",
      "gmail\n",
      "avi\n",
      "yahoo\n",
      "fahi\n",
      "{'aruna': 1, 'sal': 1, 'chou': 1}\n",
      "{'gmail': 3, 'yahoo': 3, 'email': 1}\n"
     ]
    }
   ],
   "source": [
    "##handson\n",
    "a=[\"aruna@gmail.com\",\"sal@yahoo.com\",\"chou@email.com\",\"chou@gmail.com\",\"sal@yahoo.com\",\"avi@gmail.com\",\"fahi@yahoo.com\"]\n",
    "b = {}\n",
    "c= {}\n",
    "for i in a:\n",
    "    d=i.split(\"@\")[1].split(\".\")[0]\n",
    "    e=i.split(\"@\")[0]\n",
    "    print(d)\n",
    "    print(e)\n",
    "    if d in b.keys():\n",
    "        val = b.get(d)\n",
    "        val = val +1 \n",
    "        b[d] = val\n",
    "    elif e in c.keys():\n",
    "        val = c.get(e)\n",
    "        val= val+1\n",
    "        c[e] = val\n",
    "    else:\n",
    "        b[d] = 1\n",
    "        c[e] = 1\n",
    "print(c)\n",
    "print(b)\n"
   ]
  },
  {
   "cell_type": "code",
   "execution_count": 5,
   "id": "09629a44",
   "metadata": {},
   "outputs": [
    {
     "name": "stdout",
     "output_type": "stream",
     "text": [
      "[['one', 1], ['two', 1], ['three', 1], ['one', 2], ['two', 2], ['three', 2], ['one', 3], ['two', 3], ['three', 3]]\n"
     ]
    }
   ],
   "source": [
    "\"\"\"a=[\"one\",\"two\",\"three\"]\n",
    "b=[1,2,3]\n",
    "c=[]\"\"\"\n",
    "def list(a,b):\n",
    "    c=[]\n",
    "    for j in b:\n",
    "        for i in a:\n",
    "            c.append([i,j])\n",
    "    print(c)\n",
    "list(a=[\"one\",\"two\",\"three\"],b=[1,2,3])\n"
   ]
  },
  {
   "cell_type": "code",
   "execution_count": null,
   "id": "bfd93f0f",
   "metadata": {},
   "outputs": [],
   "source": []
  }
 ],
 "metadata": {
  "kernelspec": {
   "display_name": "Python 3 (ipykernel)",
   "language": "python",
   "name": "python3"
  },
  "language_info": {
   "codemirror_mode": {
    "name": "ipython",
    "version": 3
   },
   "file_extension": ".py",
   "mimetype": "text/x-python",
   "name": "python",
   "nbconvert_exporter": "python",
   "pygments_lexer": "ipython3",
   "version": "3.10.9"
  }
 },
 "nbformat": 4,
 "nbformat_minor": 5
}
